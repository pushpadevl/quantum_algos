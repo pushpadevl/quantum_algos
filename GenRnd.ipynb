{
 "cells": [
  {
   "cell_type": "code",
   "execution_count": 7,
   "id": "86f8da23-7b27-4e57-b9c0-dc6e05ad9ede",
   "metadata": {
    "tags": []
   },
   "outputs": [],
   "source": [
    "from qiskit import QuantumRegister, ClassicalRegister, QuantumCircuit, Aer, execute\n",
    "\n"
   ]
  },
  {
   "cell_type": "code",
   "execution_count": 8,
   "id": "df555d2e-bbc8-4623-be87-00624b80e7c8",
   "metadata": {
    "tags": []
   },
   "outputs": [
    {
     "data": {
      "text/plain": [
       "<qiskit.circuit.instructionset.InstructionSet at 0x7f54744fbfd0>"
      ]
     },
     "execution_count": 8,
     "metadata": {},
     "output_type": "execute_result"
    }
   ],
   "source": [
    "\n",
    "# Create a quantum register and classical register\n",
    "q = QuantumRegister(1, 'q')\n",
    "c = ClassicalRegister(1, 'c')\n"
   ]
  },
  {
   "cell_type": "code",
   "execution_count": 9,
   "id": "2b171ba0-59c6-4b0a-add2-777a3f48f979",
   "metadata": {
    "tags": []
   },
   "outputs": [
    {
     "name": "stdout",
     "output_type": "stream",
     "text": [
      "State Vector: Statevector([0.+0.j, 1.+0.j],\n",
      "            dims=(2,))\n"
     ]
    },
    {
     "data": {
      "image/png": "[encoded data removed]",
      "text/plain": [
       "<Figure size 269.064x200.667 with 1 Axes>"
      ]
     },
     "execution_count": 9,
     "metadata": {},
     "output_type": "execute_result"
    }
   ],
   "source": [
    "for i in range(100):\n",
    "# Create a quantum circuit\n",
    "qc = QuantumCircuit(q, c)\n",
    "\n",
    "# Apply a Hadamard gate to the qubit\n",
    "qc.h(q[0])\n",
    "\n",
    "# Measure the qubit\n",
    "qc.measure(q, c)\n",
    "\n",
    "\n",
    "# Create the state vector simulator backend\n",
    "sv_simulator = Aer.get_backend('statevector_simulator')\n",
    "\n",
    "# Run the quantum circuit and obtain the state vector\n",
    "result = execute(qc, backend=sv_simulator).result()\n",
    "random_number = result.get_statevector(qc)\n",
    "\n",
    "# Print the state vector\n",
    "print(\"State Vector:\", random_number)\n",
    "\n",
    "# Plot the circuit\n",
    "qc.draw(output='mpl')\n"
   ]
  },
  {
   "cell_type": "code",
   "execution_count": null,
   "id": "d18ae39b-b482-43ca-b897-7be5fe26b6bf",
   "metadata": {},
   "outputs": [],
   "source": []
  }
 ],
 "metadata": {
  "kernelspec": {
   "display_name": "Python 3 (ipykernel)",
   "language": "python",
   "name": "python3"
  },
  "language_info": {
   "codemirror_mode": {
    "name": "ipython",
    "version": 3
   },
   "file_extension": ".py",
   "mimetype": "text/x-python",
   "name": "python",
   "nbconvert_exporter": "python",
   "pygments_lexer": "ipython3",
   "version": "3.10.8"
  },
  "widgets": {
   "application/vnd.jupyter.widget-state+json": {
    "state": {
     "0b1fed9fb1f5473b964da95a76eb485a": {
      "model_module": "@jupyter-widgets/controls",
      "model_module_version": "2.0.0",
      "model_name": "HTMLStyleModel",
      "state": {
       "description_width": "",
       "font_size": null,
       "text_color": null
      }
     },
     "1ae091f20d014ee68d96870206c08753": {
      "model_module": "@jupyter-widgets/base",
      "model_module_version": "2.0.0",
      "model_name": "LayoutModel",
      "state": {
       "grid_template_areas": "\n                                       \". . . . right \"\n                                        ",
       "grid_template_columns": "20% 20% 20% 20% 20%",
       "width": "100%"
      }
     },
     "1ddae9275f854e02b88ae76ee826d449": {
      "model_module": "@jupyter-widgets/controls",
      "model_module_version": "2.0.0",
      "model_name": "HTMLStyleModel",
      "state": {
       "description_width": "",
       "font_size": null,
       "text_color": null
      }
     },
     "313d3809ddb543648bee18fc9ab5cb55": {
      "model_module": "@jupyter-widgets/controls",
      "model_module_version": "2.0.0",
      "model_name": "ButtonStyleModel",
      "state": {
       "font_family": null,
       "font_size": null,
       "font_style": null,
       "font_variant": null,
       "font_weight": null,
       "text_color": null,
       "text_decoration": null
      }
     },
     "3ea1d76c8f1c4d39b8b7f6ed6f9371fa": {
      "model_module": "@jupyter-widgets/controls",
      "model_module_version": "2.0.0",
      "model_name": "GridBoxModel",
      "state": {
       "children": [
        "IPY_MODEL_7bc17c4667fb4aa499cc4b5fe643e74e"
       ],
       "layout": "IPY_MODEL_1ae091f20d014ee68d96870206c08753"
      }
     },
     "44c85b4f8f834d859cd2fa39a1a090dd": {
      "model_module": "@jupyter-widgets/controls",
      "model_module_version": "2.0.0",
      "model_name": "HTMLModel",
      "state": {
       "layout": "IPY_MODEL_a49fff88fd164422a0bcd03739a80f69",
       "style": "IPY_MODEL_57d4f4f61bba477388b453b84f53aba1",
       "value": "<p style='font-family: IBM Plex Sans, Arial, Helvetica, sans-serif; font-size: 20px; font-weight: medium;'>Circuit Properties</p>"
      }
     },
     "542bbd5ed0ad435db64fe92bcf135c7f": {
      "model_module": "@jupyter-widgets/controls",
      "model_module_version": "2.0.0",
      "model_name": "HTMLStyleModel",
      "state": {
       "description_width": "",
       "font_size": null,
       "text_color": null
      }
     },
     "57d4f4f61bba477388b453b84f53aba1": {
      "model_module": "@jupyter-widgets/controls",
      "model_module_version": "2.0.0",
      "model_name": "HTMLStyleModel",
      "state": {
       "description_width": "",
       "font_size": null,
       "text_color": null
      }
     },
     "5a0b879c89c64fbb80c2a749d7d8732a": {
      "model_module": "@jupyter-widgets/base",
      "model_module_version": "2.0.0",
      "model_name": "LayoutModel",
      "state": {
       "width": "70px"
      }
     },
     "5acd61dc2c824c55ad8b6723cc308730": {
      "model_module": "@jupyter-widgets/controls",
      "model_module_version": "2.0.0",
      "model_name": "HTMLModel",
      "state": {
       "layout": "IPY_MODEL_5a0b879c89c64fbb80c2a749d7d8732a",
       "style": "IPY_MODEL_1ddae9275f854e02b88ae76ee826d449",
       "value": "<h5>Queue</h5>"
      }
     },
     "6f776dee51b74be9b5c6aa5bc50bd470": {
      "model_module": "@jupyter-widgets/controls",
      "model_module_version": "2.0.0",
      "model_name": "HTMLModel",
      "state": {
       "layout": "IPY_MODEL_9fe8b4b6093344ddad4b16a11f61762b",
       "style": "IPY_MODEL_781b927496174393a8b24f4ab6256f69",
       "value": "<h5>Message</h5>"
      }
     },
     "7055f2c412f34f67803febb7a255a857": {
      "model_module": "@jupyter-widgets/controls",
      "model_module_version": "2.0.0",
      "model_name": "HTMLStyleModel",
      "state": {
       "description_width": "",
       "font_size": null,
       "text_color": null
      }
     },
     "781b927496174393a8b24f4ab6256f69": {
      "model_module": "@jupyter-widgets/controls",
      "model_module_version": "2.0.0",
      "model_name": "HTMLStyleModel",
      "state": {
       "description_width": "",
       "font_size": null,
       "text_color": null
      }
     },
     "7bc17c4667fb4aa499cc4b5fe643e74e": {
      "model_module": "@jupyter-widgets/controls",
      "model_module_version": "2.0.0",
      "model_name": "ButtonModel",
      "state": {
       "button_style": "primary",
       "description": "Clear",
       "layout": "IPY_MODEL_f8c1c64160c54ee7ac5582e1a2fd0c5a",
       "style": "IPY_MODEL_313d3809ddb543648bee18fc9ab5cb55",
       "tooltip": null
      }
     },
     "84147445ef5945b8b5a0d5fcbd4b7d10": {
      "model_module": "@jupyter-widgets/controls",
      "model_module_version": "2.0.0",
      "model_name": "HTMLModel",
      "state": {
       "layout": "IPY_MODEL_cf43699a3fdd4a0e894432f6b175f858",
       "style": "IPY_MODEL_7055f2c412f34f67803febb7a255a857",
       "value": "<h5>Job ID</h5>"
      }
     },
     "8c8598043241451b987d868ae5a3ae1a": {
      "model_module": "@jupyter-widgets/controls",
      "model_module_version": "2.0.0",
      "model_name": "HTMLModel",
      "state": {
       "layout": "IPY_MODEL_a8abe470633b4972996e11e2f3679b3f",
       "style": "IPY_MODEL_0b1fed9fb1f5473b964da95a76eb485a",
       "value": "<h5>Backend</h5>"
      }
     },
     "9fe8b4b6093344ddad4b16a11f61762b": {
      "model_module": "@jupyter-widgets/base",
      "model_module_version": "2.0.0",
      "model_name": "LayoutModel",
      "state": {}
     },
     "a49fff88fd164422a0bcd03739a80f69": {
      "model_module": "@jupyter-widgets/base",
      "model_module_version": "2.0.0",
      "model_name": "LayoutModel",
      "state": {
       "margin": "0px 0px 10px 0px"
      }
     },
     "a8abe470633b4972996e11e2f3679b3f": {
      "model_module": "@jupyter-widgets/base",
      "model_module_version": "2.0.0",
      "model_name": "LayoutModel",
      "state": {
       "width": "145px"
      }
     },
     "ae75b379ad83403eafbda77e6710153b": {
      "model_module": "@jupyter-widgets/controls",
      "model_module_version": "2.0.0",
      "model_name": "HBoxModel",
      "state": {
       "children": [
        "IPY_MODEL_84147445ef5945b8b5a0d5fcbd4b7d10",
        "IPY_MODEL_8c8598043241451b987d868ae5a3ae1a",
        "IPY_MODEL_bb68ef9f554c4de59a446065d31d33cb",
        "IPY_MODEL_5acd61dc2c824c55ad8b6723cc308730",
        "IPY_MODEL_6f776dee51b74be9b5c6aa5bc50bd470"
       ],
       "layout": "IPY_MODEL_bdfd7b5b095c4473bc7504134450b07d"
      }
     },
     "bb68ef9f554c4de59a446065d31d33cb": {
      "model_module": "@jupyter-widgets/controls",
      "model_module_version": "2.0.0",
      "model_name": "HTMLModel",
      "state": {
       "layout": "IPY_MODEL_c8de871f6d2a4f5899a522b008c3d5a2",
       "style": "IPY_MODEL_542bbd5ed0ad435db64fe92bcf135c7f",
       "value": "<h5>Status</h5>"
      }
     },
     "bdfd7b5b095c4473bc7504134450b07d": {
      "model_module": "@jupyter-widgets/base",
      "model_module_version": "2.0.0",
      "model_name": "LayoutModel",
      "state": {
       "margin": "0px 0px 0px 37px",
       "width": "600px"
      }
     },
     "c8de871f6d2a4f5899a522b008c3d5a2": {
      "model_module": "@jupyter-widgets/base",
      "model_module_version": "2.0.0",
      "model_name": "LayoutModel",
      "state": {
       "width": "95px"
      }
     },
     "cf43699a3fdd4a0e894432f6b175f858": {
      "model_module": "@jupyter-widgets/base",
      "model_module_version": "2.0.0",
      "model_name": "LayoutModel",
      "state": {
       "width": "190px"
      }
     },
     "f8c1c64160c54ee7ac5582e1a2fd0c5a": {
      "model_module": "@jupyter-widgets/base",
      "model_module_version": "2.0.0",
      "model_name": "LayoutModel",
      "state": {
       "grid_area": "right",
       "padding": "0px 0px 0px 0px",
       "width": "70px"
      }
     }
    },
    "version_major": 2,
    "version_minor": 0
   }
  }
 },
 "nbformat": 4,
 "nbformat_minor": 5
}
