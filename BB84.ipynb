{
 "cells": [
  {
   "cell_type": "code",
   "execution_count": 95,
   "id": "3e67932c-7fd2-4f8a-bd47-2d838c674f70",
   "metadata": {
    "tags": []
   },
   "outputs": [],
   "source": [
    "import numpy as np\n",
    "from qiskit import *\n"
   ]
  },
  {
   "cell_type": "code",
   "execution_count": 96,
   "id": "0d8e95b1-0adf-4380-ad68-e62910e4a4d6",
   "metadata": {
    "tags": []
   },
   "outputs": [],
   "source": [
    "rng = np.random.default_rng(7632)\n",
    "A0 = rng.integers(low=0,high=2,size=50)\n",
    "#A0\n",
    "A1 = rng.integers(low=0,high=2,size=50)\n",
    "#A1\n",
    "B = rng.integers(low=0,high=2,size=50)\n",
    "#B"
   ]
  },
  {
   "cell_type": "code",
   "execution_count": 109,
   "id": "f60d2cf7-16bc-4215-a499-92d04979744b",
   "metadata": {
    "tags": []
   },
   "outputs": [
    {
     "name": "stdout",
     "output_type": "stream",
     "text": [
      "{'0': 1024}\n",
      "{'1': 1024}\n",
      "{'1': 1024}\n",
      "{'0': 1024}\n",
      "{'1': 1024}\n",
      "{'0': 1024}\n",
      "{'0': 1024}\n",
      "{'1': 1024}\n",
      "{'1': 1024}\n",
      "{'1': 1024}\n",
      "{'0': 1024}\n",
      "{'0': 1024}\n",
      "{'1': 1024}\n",
      "{'0': 1024}\n",
      "{'1': 1024}\n",
      "{'1': 1024}\n",
      "{'1': 1024}\n",
      "{'1': 1024}\n",
      "{'0': 1024}\n",
      "{'1': 1024}\n",
      "{'0': 1024}\n",
      "{'0': 1024}\n"
     ]
    }
   ],
   "source": [
    "%matplotlib inline\n",
    "# A0 has the bit string\n",
    "# A1 has the basis\n",
    "# B belongs to Bob\n",
    "rC = []\n",
    "for i in range(50):\n",
    "    qA=QuantumRegister(2,'qA')\n",
    "    qB=QuantumRegister(1,'qB')\n",
    "    aux = QuantumRegister(1,'aux')\n",
    "    c = ClassicalRegister(1,'c')\n",
    "    qc_bb = QuantumCircuit(qB,qA,aux,c)\n",
    "\n",
    "    if A0[i]==1 :\n",
    "        qc_bb.x(qA[0])\n",
    "    if A1[i]==1 :\n",
    "        qc_bb.x(qA[1])\n",
    "    if B[i]==1 :\n",
    "        qc_bb.x(qB[0])\n",
    "\n",
    "    qc_bb.barrier()\n",
    "\n",
    "    qc_bb.cx(qA[0],aux)\n",
    "\n",
    "    qc_bb.ch(qA[1], qA[0])\n",
    "\n",
    "    qc_bb.ch(qB[0],qA[0])\n",
    "    qc_bb.barrier()\n",
    "    qc_bb.measure(qA[0],c[0])\n",
    "    #qc_bb.measure\n",
    "    #rC.append(c[0])\n",
    "    #rC\n",
    "\n",
    "    sim = Aer.get_backend('qasm_simulator')\n",
    "    result = execute(qc_bb,backend=sim).result()\n",
    "    rC.append(result.get_counts(qc_bb))\n",
    "    #qc_bb.draw(output='mpl')    \n",
    "for i in range(50):\n",
    "    if (len(rC[i])==1):\n",
    "        if (A0[i]==rC[i]):\n",
    "            print(rC[i])"
   ]
  },
  {
   "cell_type": "code",
   "execution_count": null,
   "id": "9bf99af4-7aaf-4bde-9425-75a86e018479",
   "metadata": {},
   "outputs": [],
   "source": [
    "Assignment:\n",
    "    1. Introduce Error with a given probability p (basically XORing with 1 at p proportion of indices)\n",
    "    2. Then measure the error.\n",
    "    3. Then rectify the error with Double hashing or privacy amplification"
   ]
  },
  {
   "cell_type": "code",
   "execution_count": null,
   "id": "0f1e44aa-0941-423c-a06c-b1434177b8f4",
   "metadata": {},
   "outputs": [],
   "source": [
    "\n",
    "\n",
    "\n",
    "\"\"\"\n",
    "qA=QuantumRegister(2,'qA')\n",
    "qB=QuantumRegister(1,'qB')\n",
    "aux = QuantumRegister(1,'aux')\n",
    "c = ClassicalRegister(2,'c')\n",
    "qc_bb = QuantumCircuit(qB,qA,aux,c)\n",
    "\n",
    "if A0[0]==1 :\n",
    "    qc_bb.x(qA[0])\n",
    "if A1[0]==1 :\n",
    "    qc_bb.x(qA[1])\n",
    "if B[0]==1 :\n",
    "    qc_bb.x(qB[0])\n",
    "\n",
    "qc_bb.barrier()\n",
    "\n",
    "qc_bb.cx(qA[0],aux)\n",
    "\n",
    "qc_bb.ch(qA[1], qA[0])\n",
    "\n",
    "qc_bb.ch(qB[0],qA[0])\n",
    "qc_bb.barrier()\n",
    "qc_bb.measure(qA[0],c[0])\n",
    "\n",
    "qc_bb.draw(output='mpl')    \n",
    "\"\"\""
   ]
  }
 ],
 "metadata": {
  "kernelspec": {
   "display_name": "Python 3 (ipykernel)",
   "language": "python",
   "name": "python3"
  },
  "language_info": {
   "codemirror_mode": {
    "name": "ipython",
    "version": 3
   },
   "file_extension": ".py",
   "mimetype": "text/x-python",
   "name": "python",
   "nbconvert_exporter": "python",
   "pygments_lexer": "ipython3",
   "version": "3.10.8"
  },
  "widgets": {
   "application/vnd.jupyter.widget-state+json": {
    "state": {},
    "version_major": 2,
    "version_minor": 0
   }
  }
 },
 "nbformat": 4,
 "nbformat_minor": 5
}
