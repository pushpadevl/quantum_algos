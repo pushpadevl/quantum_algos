{
 "cells": [
  {
   "cell_type": "code",
   "execution_count": 1,
   "id": "9eb947e6-9c8f-40ff-99c2-00bed281c83c",
   "metadata": {
    "tags": []
   },
   "outputs": [],
   "source": [
    "# Importing standard Qiskit libraries\n",
    "from qiskit import QuantumCircuit, transpile\n",
    "from qiskit.tools.jupyter import *\n",
    "from qiskit.visualization import *\n",
    "from ibm_quantum_widgets import *\n",
    "import numpy as np\n",
    "# qiskit-ibmq-provider has been deprecated.\n",
    "# Please see the Migration Guides in https://ibm.biz/provider_migration_guide for more detail.\n",
    "from qiskit_ibm_runtime import QiskitRuntimeService, Sampler, Estimator, Session, Options\n",
    "\n",
    "# Loading your IBM Quantum account(s)\n",
    "service = QiskitRuntimeService(channel=\"ibm_quantum\")\n",
    "\n",
    "# Invoke a primitive. For more details see https://qiskit.org/documentation/partners/qiskit_ibm_runtime/tutorials.html\n",
    "# result = Sampler(\"ibmq_qasm_simulator\").run(circuits).result()"
   ]
  },
  {
   "cell_type": "code",
   "execution_count": null,
   "id": "259805bf-91d0-4c68-9f22-58cafa24d026",
   "metadata": {},
   "outputs": [],
   "source": []
  }
 ],
 "metadata": {
  "kernelspec": {
   "display_name": "Python 3 (ipykernel)",
   "language": "python",
   "name": "python3"
  },
  "language_info": {
   "codemirror_mode": {
    "name": "ipython",
    "version": 3
   },
   "file_extension": ".py",
   "mimetype": "text/x-python",
   "name": "python",
   "nbconvert_exporter": "python",
   "pygments_lexer": "ipython3",
   "version": "3.10.8"
  },
  "widgets": {
   "application/vnd.jupyter.widget-state+json": {
    "state": {
     "06544c7c02804c4ba3248329813b957a": {
      "model_module": "@jupyter-widgets/controls",
      "model_module_version": "2.0.0",
      "model_name": "HTMLStyleModel",
      "state": {
       "description_width": "",
       "font_size": null,
       "text_color": null
      }
     },
     "0e3eb8f26eca47ff9f4584084f7cb831": {
      "model_module": "@jupyter-widgets/controls",
      "model_module_version": "2.0.0",
      "model_name": "ButtonStyleModel",
      "state": {
       "font_family": null,
       "font_size": null,
       "font_style": null,
       "font_variant": null,
       "font_weight": null,
       "text_color": null,
       "text_decoration": null
      }
     },
     "21fcc1d8c5f54148bdc9edb61d546453": {
      "model_module": "@jupyter-widgets/base",
      "model_module_version": "2.0.0",
      "model_name": "LayoutModel",
      "state": {
       "grid_template_areas": "\n                                       \". . . . right \"\n                                        ",
       "grid_template_columns": "20% 20% 20% 20% 20%",
       "width": "100%"
      }
     },
     "3a9339889852423aaa88b8c50bf862a5": {
      "model_module": "@jupyter-widgets/base",
      "model_module_version": "2.0.0",
      "model_name": "LayoutModel",
      "state": {}
     },
     "3b27a44ea85b41528db1b41a37fbe682": {
      "model_module": "@jupyter-widgets/base",
      "model_module_version": "2.0.0",
      "model_name": "LayoutModel",
      "state": {
       "width": "145px"
      }
     },
     "4b256ee0981e473fbe86005d2f983d3f": {
      "model_module": "@jupyter-widgets/controls",
      "model_module_version": "2.0.0",
      "model_name": "HTMLModel",
      "state": {
       "layout": "IPY_MODEL_55ebf2acb6584bf28d34ef1ff5798269",
       "style": "IPY_MODEL_06544c7c02804c4ba3248329813b957a",
       "value": "<p style='font-family: IBM Plex Sans, Arial, Helvetica, sans-serif; font-size: 20px; font-weight: medium;'>Circuit Properties</p>"
      }
     },
     "4f6beb3028104b14b188361e780095f7": {
      "model_module": "@jupyter-widgets/controls",
      "model_module_version": "2.0.0",
      "model_name": "HTMLStyleModel",
      "state": {
       "description_width": "",
       "font_size": null,
       "text_color": null
      }
     },
     "55ebf2acb6584bf28d34ef1ff5798269": {
      "model_module": "@jupyter-widgets/base",
      "model_module_version": "2.0.0",
      "model_name": "LayoutModel",
      "state": {
       "margin": "0px 0px 10px 0px"
      }
     },
     "57ddb89b40104b1ca5cf408285281bfa": {
      "model_module": "@jupyter-widgets/controls",
      "model_module_version": "2.0.0",
      "model_name": "HTMLModel",
      "state": {
       "layout": "IPY_MODEL_3a9339889852423aaa88b8c50bf862a5",
       "style": "IPY_MODEL_4f6beb3028104b14b188361e780095f7",
       "value": "<h5>Message</h5>"
      }
     },
     "6f96edd078c84f99b7f25e0f55ecbf34": {
      "model_module": "@jupyter-widgets/base",
      "model_module_version": "2.0.0",
      "model_name": "LayoutModel",
      "state": {
       "grid_area": "right",
       "padding": "0px 0px 0px 0px",
       "width": "70px"
      }
     },
     "752a5928558e48ef8b8c013db5c217f7": {
      "model_module": "@jupyter-widgets/base",
      "model_module_version": "2.0.0",
      "model_name": "LayoutModel",
      "state": {
       "width": "70px"
      }
     },
     "7822a7b151264b8aae2331ad85789d15": {
      "model_module": "@jupyter-widgets/controls",
      "model_module_version": "2.0.0",
      "model_name": "HTMLModel",
      "state": {
       "layout": "IPY_MODEL_c69cb3f284654a86b0c8b7901bfc8f79",
       "style": "IPY_MODEL_cdeb4c61655b46ef829710c0b7448e6b",
       "value": "<h5>Status</h5>"
      }
     },
     "822f21d475a14c3390530cb92b61d731": {
      "model_module": "@jupyter-widgets/controls",
      "model_module_version": "2.0.0",
      "model_name": "HTMLModel",
      "state": {
       "layout": "IPY_MODEL_d2dd731edff74a20a334a25400529b2c",
       "style": "IPY_MODEL_fab98aedbe784d09ad759f39f56310ec",
       "value": "<h5>Job ID</h5>"
      }
     },
     "887cf76daec94141ad08070546371f13": {
      "model_module": "@jupyter-widgets/controls",
      "model_module_version": "2.0.0",
      "model_name": "ButtonModel",
      "state": {
       "button_style": "primary",
       "description": "Clear",
       "layout": "IPY_MODEL_6f96edd078c84f99b7f25e0f55ecbf34",
       "style": "IPY_MODEL_0e3eb8f26eca47ff9f4584084f7cb831",
       "tooltip": null
      }
     },
     "99183926a4134a05afb576a198731238": {
      "model_module": "@jupyter-widgets/controls",
      "model_module_version": "2.0.0",
      "model_name": "HBoxModel",
      "state": {
       "children": [
        "IPY_MODEL_822f21d475a14c3390530cb92b61d731",
        "IPY_MODEL_d6a6d5d1d850494fbf7a5a48808fddbc",
        "IPY_MODEL_7822a7b151264b8aae2331ad85789d15",
        "IPY_MODEL_bcd698f183ff48c19cad8a77e23a9b78",
        "IPY_MODEL_57ddb89b40104b1ca5cf408285281bfa"
       ],
       "layout": "IPY_MODEL_e28cbea868eb46f8b777238655842d06"
      }
     },
     "ac8ffcf4fd9142ba9faf92c8900c5a59": {
      "model_module": "@jupyter-widgets/controls",
      "model_module_version": "2.0.0",
      "model_name": "HTMLStyleModel",
      "state": {
       "description_width": "",
       "font_size": null,
       "text_color": null
      }
     },
     "bcd698f183ff48c19cad8a77e23a9b78": {
      "model_module": "@jupyter-widgets/controls",
      "model_module_version": "2.0.0",
      "model_name": "HTMLModel",
      "state": {
       "layout": "IPY_MODEL_752a5928558e48ef8b8c013db5c217f7",
       "style": "IPY_MODEL_ac8ffcf4fd9142ba9faf92c8900c5a59",
       "value": "<h5>Queue</h5>"
      }
     },
     "c69cb3f284654a86b0c8b7901bfc8f79": {
      "model_module": "@jupyter-widgets/base",
      "model_module_version": "2.0.0",
      "model_name": "LayoutModel",
      "state": {
       "width": "95px"
      }
     },
     "c9fc6491360e4285abb6a6fb63de8d2f": {
      "model_module": "@jupyter-widgets/controls",
      "model_module_version": "2.0.0",
      "model_name": "GridBoxModel",
      "state": {
       "children": [
        "IPY_MODEL_887cf76daec94141ad08070546371f13"
       ],
       "layout": "IPY_MODEL_21fcc1d8c5f54148bdc9edb61d546453"
      }
     },
     "cbb2c32271a04ea18a09300db297fdfc": {
      "model_module": "@jupyter-widgets/controls",
      "model_module_version": "2.0.0",
      "model_name": "HTMLStyleModel",
      "state": {
       "description_width": "",
       "font_size": null,
       "text_color": null
      }
     },
     "cdeb4c61655b46ef829710c0b7448e6b": {
      "model_module": "@jupyter-widgets/controls",
      "model_module_version": "2.0.0",
      "model_name": "HTMLStyleModel",
      "state": {
       "description_width": "",
       "font_size": null,
       "text_color": null
      }
     },
     "d2dd731edff74a20a334a25400529b2c": {
      "model_module": "@jupyter-widgets/base",
      "model_module_version": "2.0.0",
      "model_name": "LayoutModel",
      "state": {
       "width": "190px"
      }
     },
     "d6a6d5d1d850494fbf7a5a48808fddbc": {
      "model_module": "@jupyter-widgets/controls",
      "model_module_version": "2.0.0",
      "model_name": "HTMLModel",
      "state": {
       "layout": "IPY_MODEL_3b27a44ea85b41528db1b41a37fbe682",
       "style": "IPY_MODEL_cbb2c32271a04ea18a09300db297fdfc",
       "value": "<h5>Backend</h5>"
      }
     },
     "e28cbea868eb46f8b777238655842d06": {
      "model_module": "@jupyter-widgets/base",
      "model_module_version": "2.0.0",
      "model_name": "LayoutModel",
      "state": {
       "margin": "0px 0px 0px 37px",
       "width": "600px"
      }
     },
     "fab98aedbe784d09ad759f39f56310ec": {
      "model_module": "@jupyter-widgets/controls",
      "model_module_version": "2.0.0",
      "model_name": "HTMLStyleModel",
      "state": {
       "description_width": "",
       "font_size": null,
       "text_color": null
      }
     }
    },
    "version_major": 2,
    "version_minor": 0
   }
  }
 },
 "nbformat": 4,
 "nbformat_minor": 5
}
