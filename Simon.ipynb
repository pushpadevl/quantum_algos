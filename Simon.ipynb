{
 "cells": [
  {
   "cell_type": "code",
   "execution_count": 41,
   "id": "906a83c9-0000-4483-8ba6-25dadf581c07",
   "metadata": {
    "tags": []
   },
   "outputs": [],
   "source": [
    "# Importing standard Qiskit libraries\n",
    "from qiskit import QuantumCircuit, transpile\n",
    "from qiskit.tools.jupyter import *\n",
    "from qiskit.visualization import *\n",
    "from ibm_quantum_widgets import *\n",
    "\n",
    "# qiskit-ibmq-provider has been deprecated.\n",
    "# Please see the Migration Guides in https://ibm.biz/provider_migration_guide for more detail.\n",
    "from qiskit_ibm_runtime import QiskitRuntimeService, Sampler, Estimator, Session, Options\n",
    "\n",
    "# Loading your IBM Quantum account(s)\n",
    "service = QiskitRuntimeService(channel=\"ibm_quantum\")\n",
    "\n",
    "# Invoke a primitive. For more details see https://qiskit.org/documentation/partners/qiskit_ibm_runtime/tutorials.html\n",
    "# result = Sampler(\"ibmq_qasm_simulator\").run(circuits).result()"
   ]
  },
  {
   "cell_type": "code",
   "execution_count": 45,
   "id": "06ba33e3-8efe-4470-80a2-9d58e87860f4",
   "metadata": {
    "tags": []
   },
   "outputs": [],
   "source": [
    "from qiskit import *\n",
    "orcl = QuantumCircuit(6)\n",
    "orcl.x(0)\n",
    "orcl.ccx(0 ,2 ,5)\n",
    "orcl.x([0 ,2])\n",
    "orcl.ccx(0 ,2 ,3)\n",
    "orcl.x(2)\n",
    "orcl.ccx(0 ,1 ,3)\n",
    "orcl.ccx(0 ,1 ,5)\n",
    "oracle=orcl.to_instruction()"
   ]
  },
  {
   "cell_type": "code",
   "execution_count": 47,
   "id": "3d8f3727-42a4-453e-a56a-b5405318c07b",
   "metadata": {},
   "outputs": [
    {
     "name": "stdout",
     "output_type": "stream",
     "text": [
      "{'100': 8, '110': 4, '010': 5, '000': 33, '011': 6, '111': 8, '001': 8, '101': 28}\n"
     ]
    }
   ],
   "source": [
    "q = QuantumRegister(6,'q')\n",
    "c = ClassicalRegister(3,'c')\n",
    "qc= QuantumCircuit(q,c)\n",
    "\n",
    "qc.h([q[0],q[1],q[2]])\n",
    "qc.append(oracle,q)\n",
    "qc.h([q[0],q[1],q[2]])\n",
    "for i in range(3):\n",
    "    qc.measure(q[i],c[2-i])\n",
    "\n",
    "backend = Aer.get_backend('qasm_simulator')\n",
    "qjob = execute(qc,backend,shots=100)\n",
    "counts = qjob.result().get_counts()\n",
    "print(counts)"
   ]
  },
  {
   "cell_type": "code",
   "execution_count": null,
   "id": "93cf2dc6-e2f7-4ca4-8106-7dd9a351dbc2",
   "metadata": {},
   "outputs": [],
   "source": []
  }
 ],
 "metadata": {
  "kernelspec": {
   "display_name": "Python 3 (ipykernel)",
   "language": "python",
   "name": "python3"
  },
  "language_info": {
   "codemirror_mode": {
    "name": "ipython",
    "version": 3
   },
   "file_extension": ".py",
   "mimetype": "text/x-python",
   "name": "python",
   "nbconvert_exporter": "python",
   "pygments_lexer": "ipython3",
   "version": "3.10.8"
  },
  "widgets": {
   "application/vnd.jupyter.widget-state+json": {
    "state": {},
    "version_major": 2,
    "version_minor": 0
   }
  }
 },
 "nbformat": 4,
 "nbformat_minor": 5
}
