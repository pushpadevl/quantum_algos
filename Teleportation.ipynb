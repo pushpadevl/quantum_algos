{
 "cells": [
  {
   "cell_type": "code",
   "execution_count": 3,
   "id": "f1a45fb1-57bd-4eeb-926d-78ef3e4669a5",
   "metadata": {
    "tags": []
   },
   "outputs": [],
   "source": [
    "# Importing standard Qiskit libraries\n",
    "from qiskit import *"
   ]
  },
  {
   "cell_type": "code",
   "execution_count": 6,
   "id": "e81f4ea9-a568-4fff-afe8-405323484bc0",
   "metadata": {
    "tags": []
   },
   "outputs": [
    {
     "data": {
      "image/png": "[encoded data removed]",
      "text/plain": [
       "<Figure size 957.779x367.889 with 1 Axes>"
      ]
     },
     "execution_count": 6,
     "metadata": {},
     "output_type": "execute_result"
    }
   ],
   "source": [
    "A = QuantumRegister(2,'A')\n",
    "B = QuantumRegister(1,'B')\n",
    "C = ClassicalRegister(2,'C')\n",
    "\n",
    "qc = QuantumCircuit(A,B,C)\n",
    "\n",
    "#creating entanglement\n",
    "qc.h(A[1])\n",
    "qc.cx(A[1],B)\n",
    "\n",
    "#dummy state A[0]\n",
    "qc.h(A[0])\n",
    "\n",
    "#CNT and H by ALICE followed by measiuring\n",
    "qc.cx(A[0],A[1])\n",
    "qc.h(A[0])\n",
    "\n",
    "qc.measure(A[0],C[0])\n",
    "qc.measure(A[1],C[1])\n",
    "qc.barrier()\n",
    "\n",
    "#Bob applies X and Z gate\n",
    "qc.x(B).c_if(C[1],1)\n",
    "qc.z(B).c_if(C[0],1)\n",
    "\n",
    "qc.h(B)\n",
    "qc.measure(B,C[0])\n",
    "qc.draw()\n"
   ]
  },
  {
   "cell_type": "code",
   "execution_count": null,
   "id": "09a73681-4715-475f-aa24-d4852bcb0860",
   "metadata": {},
   "outputs": [],
   "source": [
    "dj_simulator = Aer.get_backend('qasm_simulator')\n",
    "result = execute(qc,backend=dj_simulator).result()\n",
    "plot_histogram(result.get_counts(qc))"
   ]
  }
 ],
 "metadata": {
  "kernelspec": {
   "display_name": "Python 3 (ipykernel)",
   "language": "python",
   "name": "python3"
  },
  "language_info": {
   "codemirror_mode": {
    "name": "ipython",
    "version": 3
   },
   "file_extension": ".py",
   "mimetype": "text/x-python",
   "name": "python",
   "nbconvert_exporter": "python",
   "pygments_lexer": "ipython3",
   "version": "3.10.8"
  },
  "widgets": {
   "application/vnd.jupyter.widget-state+json": {
    "state": {
     "0abe3412a81741068a4867b07aa76681": {
      "model_module": "@jupyter-widgets/controls",
      "model_module_version": "2.0.0",
      "model_name": "HTMLStyleModel",
      "state": {
       "description_width": "",
       "font_size": null,
       "text_color": null
      }
     },
     "1224155d702a40f7a2a964d7de2f6e2f": {
      "model_module": "@jupyter-widgets/controls",
      "model_module_version": "2.0.0",
      "model_name": "ButtonStyleModel",
      "state": {
       "font_family": null,
       "font_size": null,
       "font_style": null,
       "font_variant": null,
       "font_weight": null,
       "text_color": null,
       "text_decoration": null
      }
     },
     "1663656a981b40229a85e947d4afa937": {
      "model_module": "@jupyter-widgets/controls",
      "model_module_version": "2.0.0",
      "model_name": "HTMLModel",
      "state": {
       "layout": "IPY_MODEL_f6b73d2f688f430ead6695ede80113aa",
       "style": "IPY_MODEL_ef21184b3f5a4c0492dda98c9b8de87f",
       "value": "<h5>Queue</h5>"
      }
     },
     "2b162a6497fe4072b8c5fd7d43ccd41d": {
      "model_module": "@jupyter-widgets/base",
      "model_module_version": "2.0.0",
      "model_name": "LayoutModel",
      "state": {
       "margin": "0px 0px 10px 0px"
      }
     },
     "2dd5ddd1dfcc4ecc8494fb893925c590": {
      "model_module": "@jupyter-widgets/controls",
      "model_module_version": "2.0.0",
      "model_name": "HTMLStyleModel",
      "state": {
       "description_width": "",
       "font_size": null,
       "text_color": null
      }
     },
     "2ec4eec8e182482ab4184876d0d27bef": {
      "model_module": "@jupyter-widgets/base",
      "model_module_version": "2.0.0",
      "model_name": "LayoutModel",
      "state": {
       "margin": "0px 0px 0px 37px",
       "width": "600px"
      }
     },
     "3206a27ac9bb454c8a0d7a1ac9730c5b": {
      "model_module": "@jupyter-widgets/base",
      "model_module_version": "2.0.0",
      "model_name": "LayoutModel",
      "state": {}
     },
     "34f6b1df50f24603b6bd3e7437758604": {
      "model_module": "@jupyter-widgets/base",
      "model_module_version": "2.0.0",
      "model_name": "LayoutModel",
      "state": {
       "width": "95px"
      }
     },
     "36090926ebdb46e4bebe4cd1cec7afea": {
      "model_module": "@jupyter-widgets/controls",
      "model_module_version": "2.0.0",
      "model_name": "HTMLStyleModel",
      "state": {
       "description_width": "",
       "font_size": null,
       "text_color": null
      }
     },
     "3f3546e22baa470094f6fcd20416320b": {
      "model_module": "@jupyter-widgets/controls",
      "model_module_version": "2.0.0",
      "model_name": "HTMLStyleModel",
      "state": {
       "description_width": "",
       "font_size": null,
       "text_color": null
      }
     },
     "454c7c4788924546a5686c03c4fdba01": {
      "model_module": "@jupyter-widgets/controls",
      "model_module_version": "2.0.0",
      "model_name": "HTMLModel",
      "state": {
       "layout": "IPY_MODEL_a6a63c5a18ae40de8cf4cac62bdb03db",
       "style": "IPY_MODEL_2dd5ddd1dfcc4ecc8494fb893925c590",
       "value": "<h5>Backend</h5>"
      }
     },
     "5cb946213bd54165be2ad6e63620e06c": {
      "model_module": "@jupyter-widgets/base",
      "model_module_version": "2.0.0",
      "model_name": "LayoutModel",
      "state": {
       "width": "190px"
      }
     },
     "5f82d6e52e88405e81745910722b5ff2": {
      "model_module": "@jupyter-widgets/base",
      "model_module_version": "2.0.0",
      "model_name": "LayoutModel",
      "state": {
       "grid_template_areas": "\n                                       \". . . . right \"\n                                        ",
       "grid_template_columns": "20% 20% 20% 20% 20%",
       "width": "100%"
      }
     },
     "710954a839fc4da5b8d15d4108841475": {
      "model_module": "@jupyter-widgets/controls",
      "model_module_version": "2.0.0",
      "model_name": "HTMLModel",
      "state": {
       "layout": "IPY_MODEL_34f6b1df50f24603b6bd3e7437758604",
       "style": "IPY_MODEL_0abe3412a81741068a4867b07aa76681",
       "value": "<h5>Status</h5>"
      }
     },
     "7ab77570aa354d24bc768e3ff1176a31": {
      "model_module": "@jupyter-widgets/controls",
      "model_module_version": "2.0.0",
      "model_name": "GridBoxModel",
      "state": {
       "children": [
        "IPY_MODEL_c29e52d3f5ef4af3b939160b82e29ab5"
       ],
       "layout": "IPY_MODEL_5f82d6e52e88405e81745910722b5ff2"
      }
     },
     "7f541d157cd249dca7bfb0210df47d43": {
      "model_module": "@jupyter-widgets/controls",
      "model_module_version": "2.0.0",
      "model_name": "HTMLModel",
      "state": {
       "layout": "IPY_MODEL_2b162a6497fe4072b8c5fd7d43ccd41d",
       "style": "IPY_MODEL_36090926ebdb46e4bebe4cd1cec7afea",
       "value": "<p style='font-family: IBM Plex Sans, Arial, Helvetica, sans-serif; font-size: 20px; font-weight: medium;'>Circuit Properties</p>"
      }
     },
     "a6a63c5a18ae40de8cf4cac62bdb03db": {
      "model_module": "@jupyter-widgets/base",
      "model_module_version": "2.0.0",
      "model_name": "LayoutModel",
      "state": {
       "width": "145px"
      }
     },
     "afe35d91aeab4003bd205acf8237ccd4": {
      "model_module": "@jupyter-widgets/controls",
      "model_module_version": "2.0.0",
      "model_name": "HTMLModel",
      "state": {
       "layout": "IPY_MODEL_5cb946213bd54165be2ad6e63620e06c",
       "style": "IPY_MODEL_3f3546e22baa470094f6fcd20416320b",
       "value": "<h5>Job ID</h5>"
      }
     },
     "ba6935bd8edb4f65b6ffa6bac4b0efd2": {
      "model_module": "@jupyter-widgets/controls",
      "model_module_version": "2.0.0",
      "model_name": "HTMLStyleModel",
      "state": {
       "description_width": "",
       "font_size": null,
       "text_color": null
      }
     },
     "c29e52d3f5ef4af3b939160b82e29ab5": {
      "model_module": "@jupyter-widgets/controls",
      "model_module_version": "2.0.0",
      "model_name": "ButtonModel",
      "state": {
       "button_style": "primary",
       "description": "Clear",
       "layout": "IPY_MODEL_d9a44c06d1d1465781a93f7367cf44b4",
       "style": "IPY_MODEL_1224155d702a40f7a2a964d7de2f6e2f",
       "tooltip": null
      }
     },
     "d659e8a146234d2ca440c537baa897ea": {
      "model_module": "@jupyter-widgets/controls",
      "model_module_version": "2.0.0",
      "model_name": "HTMLModel",
      "state": {
       "layout": "IPY_MODEL_3206a27ac9bb454c8a0d7a1ac9730c5b",
       "style": "IPY_MODEL_ba6935bd8edb4f65b6ffa6bac4b0efd2",
       "value": "<h5>Message</h5>"
      }
     },
     "d9a44c06d1d1465781a93f7367cf44b4": {
      "model_module": "@jupyter-widgets/base",
      "model_module_version": "2.0.0",
      "model_name": "LayoutModel",
      "state": {
       "grid_area": "right",
       "padding": "0px 0px 0px 0px",
       "width": "70px"
      }
     },
     "ef21184b3f5a4c0492dda98c9b8de87f": {
      "model_module": "@jupyter-widgets/controls",
      "model_module_version": "2.0.0",
      "model_name": "HTMLStyleModel",
      "state": {
       "description_width": "",
       "font_size": null,
       "text_color": null
      }
     },
     "f6b73d2f688f430ead6695ede80113aa": {
      "model_module": "@jupyter-widgets/base",
      "model_module_version": "2.0.0",
      "model_name": "LayoutModel",
      "state": {
       "width": "70px"
      }
     },
     "feb3a4ae6fb744a6af2653112e0b3369": {
      "model_module": "@jupyter-widgets/controls",
      "model_module_version": "2.0.0",
      "model_name": "HBoxModel",
      "state": {
       "children": [
        "IPY_MODEL_afe35d91aeab4003bd205acf8237ccd4",
        "IPY_MODEL_454c7c4788924546a5686c03c4fdba01",
        "IPY_MODEL_710954a839fc4da5b8d15d4108841475",
        "IPY_MODEL_1663656a981b40229a85e947d4afa937",
        "IPY_MODEL_d659e8a146234d2ca440c537baa897ea"
       ],
       "layout": "IPY_MODEL_2ec4eec8e182482ab4184876d0d27bef"
      }
     }
    },
    "version_major": 2,
    "version_minor": 0
   }
  }
 },
 "nbformat": 4,
 "nbformat_minor": 5
}
