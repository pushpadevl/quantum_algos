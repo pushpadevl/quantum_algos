{
 "cells": [
  {
   "cell_type": "code",
   "execution_count": 2,
   "id": "25aa4e81-8d12-404c-b678-f377c49b6b30",
   "metadata": {
    "tags": []
   },
   "outputs": [],
   "source": [
    "# Importing standard Qiskit libraries\n",
    "from qiskit import *\n",
    "#QuantumCircuit, transpile\n",
    "#from qiskit.tools.jupyter import *\n",
    "from qiskit.visualization import *\n",
    "#from ibm_quantum_widgets import *\n",
    "\n",
    "# qiskit-ibmq-provider has been deprecated.\n",
    "# Please see the Migration Guides in https://ibm.biz/provider_migration_guide for more detail.\n",
    "#from qiskit_ibm_runtime import QiskitRuntimeService, Sampler, Estimator, Session, Options\n",
    "\n",
    "# Loading your IBM Quantum account(s)\n",
    "#service = QiskitRuntimeService(channel=\"ibm_quantum\")\n",
    "\n",
    "# Invoke a primitive. For more details see https://qiskit.org/documentation/partners/qiskit_ibm_runtime/tutorials.html\n",
    "# result = Sampler(\"ibmq_qasm_simulator\").run(circuits).result()"
   ]
  },
  {
   "cell_type": "code",
   "execution_count": 3,
   "id": "674ed68c-af65-4545-8b9c-1534597e1090",
   "metadata": {},
   "outputs": [],
   "source": [
    "\n",
    "# 1. HOW to tackle this problem, where the function is not a constant or balanced function ( any fn not necessarilty liner)? "
   ]
  },
  {
   "cell_type": "code",
   "execution_count": 4,
   "id": "07d288cb-bd62-4e7a-8f26-aff5b9d1626c",
   "metadata": {
    "tags": []
   },
   "outputs": [
    {
     "data": {
      "text/plain": [
       "\"\\nimport numpy as np\\n\\nb_0=random.randint(0,1)\\nb_1=random.randint(0,1)\\n#m=QuantumRegister(1,'q')\\n#n=QuantumRegister(1,'q')\\n#a=QuantumRegister(1,'q')\\n#b=QuantumRegister(1,'q')\\nq=QuantumRegister(2)\\nc=ClassicalRegister(2)\\nqc = QuantumCircuit(q,c)\\n\\nqc.h(q[0])\\nqc.cx(q[0],q[1])\\n\\nqc.x(0)\\nqc.z(0)\\n\\nqc.cx(q[0],q[1])\\nqc.h(q[0])\\n\\nqc.measure(q[0],c[1])\\nqc.measure(q[1],c[0])\\n\\nbackend=Aer.get_backend('qasm_simulator')\\nqjob = execute(qc,backend)\\ncounts = qjob.result().get_counts()\\nprint(counts)\\n\""
      ]
     },
     "execution_count": 4,
     "metadata": {},
     "output_type": "execute_result"
    }
   ],
   "source": [
    "\"\"\"\n",
    "import numpy as np\n",
    "\n",
    "b_0=random.randint(0,1)\n",
    "b_1=random.randint(0,1)\n",
    "#m=QuantumRegister(1,'q')\n",
    "#n=QuantumRegister(1,'q')\n",
    "#a=QuantumRegister(1,'q')\n",
    "#b=QuantumRegister(1,'q')\n",
    "q=QuantumRegister(2)\n",
    "c=ClassicalRegister(2)\n",
    "qc = QuantumCircuit(q,c)\n",
    "\n",
    "qc.h(q[0])\n",
    "qc.cx(q[0],q[1])\n",
    "\n",
    "qc.x(0)\n",
    "qc.z(0)\n",
    "\n",
    "qc.cx(q[0],q[1])\n",
    "qc.h(q[0])\n",
    "\n",
    "qc.measure(q[0],c[1])\n",
    "qc.measure(q[1],c[0])\n",
    "\n",
    "backend=Aer.get_backend('qasm_simulator')\n",
    "qjob = execute(qc,backend)\n",
    "counts = qjob.result().get_counts()\n",
    "print(counts)\n",
    "\"\"\""
   ]
  },
  {
   "cell_type": "code",
   "execution_count": 5,
   "id": "6a57a622-c770-4691-ac1f-7913bda85f03",
   "metadata": {
    "tags": []
   },
   "outputs": [
    {
     "data": {
      "text/plain": [
       "(1, 0)"
      ]
     },
     "execution_count": 5,
     "metadata": {},
     "output_type": "execute_result"
    }
   ],
   "source": [
    "import random\n",
    "b_0=random.randint(0,1)\n",
    "b_1=random.randint(0,1)\n",
    "\n",
    "b_0, b_1"
   ]
  },
  {
   "cell_type": "code",
   "execution_count": 6,
   "id": "3aebe5d7-0dc8-4d00-af45-31c130a08794",
   "metadata": {
    "tags": []
   },
   "outputs": [
    {
     "data": {
      "image/png": "[encoded data removed]",
      "text/plain": [
       "<Figure size 770.932x284.278 with 1 Axes>"
      ]
     },
     "execution_count": 6,
     "metadata": {},
     "output_type": "execute_result"
    }
   ],
   "source": [
    "\n",
    "#m = QuantumRegister(1,'m')\n",
    "#n = QuantumRegister(1,'n')\n",
    "a = QuantumRegister(1,'a')\n",
    "b = QuantumRegister(1,'b')\n",
    "c=ClassicalRegister(2,'c')\n",
    "qc = QuantumCircuit(a,b,c)\n",
    "\n",
    "qc.h(a)\n",
    "qc.cx(a,b)\n",
    "qc.barrier()\n",
    "\n",
    "#Alice operation\n",
    "if(b_0==1):\n",
    "    qc.x(a)\n",
    "    #    qc.x(m) # was x, check\n",
    "if(b_1==1):\n",
    "    qc.z(a)\n",
    "    #qc.x(n)\n",
    "\n",
    "qc.barrier()\n",
    "\n",
    "#BOB operation\n",
    "qc.cx(a,b)\n",
    "\n",
    "#For measurement\n",
    "qc.h(a)\n",
    "\n",
    "qc.measure(a,c[0])\n",
    "qc.measure(b,c[1])\n",
    "qc.draw()\n",
    "\n",
    "\n"
   ]
  },
  {
   "cell_type": "code",
   "execution_count": 28,
   "id": "67d9fbd7-ea7d-475d-a072-04d869575f3a",
   "metadata": {
    "tags": []
   },
   "outputs": [
    {
     "data": {
      "text/plain": [
       "(1, 1)"
      ]
     },
     "execution_count": 28,
     "metadata": {},
     "output_type": "execute_result"
    }
   ],
   "source": [
    "b_0, b_1"
   ]
  },
  {
   "cell_type": "code",
   "execution_count": null,
   "id": "213c15f4-9fee-4ec3-9017-7c2285acad93",
   "metadata": {
    "tags": []
   },
   "outputs": [],
   "source": [
    "dj_simulator = Aer.get_backend('qasm_simulator')\n",
    "result = execute(qc,backend=dj_simulator).result()\n",
    "plot_histogram(result.get_counts(qc))"
   ]
  },
  {
   "cell_type": "code",
   "execution_count": null,
   "id": "fb144bf0-c9be-42a1-bea1-2aaa1c31aac6",
   "metadata": {},
   "outputs": [],
   "source": []
  }
 ],
 "metadata": {
  "kernelspec": {
   "display_name": "Python 3 (ipykernel)",
   "language": "python",
   "name": "python3"
  },
  "language_info": {
   "codemirror_mode": {
    "name": "ipython",
    "version": 3
   },
   "file_extension": ".py",
   "mimetype": "text/x-python",
   "name": "python",
   "nbconvert_exporter": "python",
   "pygments_lexer": "ipython3",
   "version": "3.10.8"
  },
  "widgets": {
   "application/vnd.jupyter.widget-state+json": {
    "state": {},
    "version_major": 2,
    "version_minor": 0
   }
  }
 },
 "nbformat": 4,
 "nbformat_minor": 5
}
